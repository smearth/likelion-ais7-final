{
 "cells": [
  {
   "cell_type": "code",
   "execution_count": 2,
   "id": "c269f7bf",
   "metadata": {
    "ExecuteTime": {
     "end_time": "2022-12-22T17:10:54.557326Z",
     "start_time": "2022-12-22T17:10:53.933702Z"
    }
   },
   "outputs": [],
   "source": [
    "import pandas as pd\n",
    "import numpy as np"
   ]
  },
  {
   "cell_type": "code",
   "execution_count": 3,
   "id": "11f447f7",
   "metadata": {
    "ExecuteTime": {
     "end_time": "2022-12-22T17:10:54.596174Z",
     "start_time": "2022-12-22T17:10:54.586998Z"
    }
   },
   "outputs": [],
   "source": [
    "# raw 데이터 전처리 함수\n",
    "def make_df(raw, ISBN):\n",
    "    df = raw[['ISBN_THIRTEEN_NO', 'BOOK_TITLE_NM', 'AUTHR_NM', 'BOOK_INTRCN_CN','PUBLISHER_NM', 'PBLICTE_DE', 'BOOK_IMAGE_NM', 'LON_CO', 'ANALS_TY_CD_NM', 'AGE_FLAG_NM', 'SEXDSTN_FLAG_NM']]\n",
    "    df.columns = ['ISBN','TITLE','AUTHR','INTRCN','PUBLISHER', 'DATE', 'IMAGE','LON','ANALS_TY_CD_NM', 'AGE', 'SEX']\n",
    "    df = df.loc[(df['ISBN'] == ISBN) & (df['ANALS_TY_CD_NM'] == '연령 및 성별')]\n",
    "    df = df.loc[df['LON'].sort_values(ascending=False).index]\n",
    "    df = df.drop_duplicates(['AGE', 'SEX'])\n",
    "    df = df.drop('ANALS_TY_CD_NM', axis=1)\n",
    "    df = df.reset_index(drop=True)\n",
    "    return df.iloc[:3]   # 대출수가 많은 순으로 3개의 행을 출력\n",
    "\n",
    "# yes24 데이터와 같은 ISBN 도서만 출력\n",
    "def make_yes(yes):\n",
    "    raw = pd.read_csv('data/book_history_202112.csv')  \n",
    "    raw = pd.concat([make_df(raw, i) for i in yes['ISBN'].values], ignore_index=True)\n",
    "    df = pd.merge(raw, yes[['ISBN','설명','관리분류']], on='ISBN')\n",
    "    return df"
   ]
  },
  {
   "cell_type": "code",
   "execution_count": null,
   "id": "2b987be4",
   "metadata": {},
   "outputs": [],
   "source": []
  }
 ],
 "metadata": {
  "kernelspec": {
   "display_name": "Python 3",
   "language": "python",
   "name": "python3"
  },
  "language_info": {
   "codemirror_mode": {
    "name": "ipython",
    "version": 3
   },
   "file_extension": ".py",
   "mimetype": "text/x-python",
   "name": "python",
   "nbconvert_exporter": "python",
   "pygments_lexer": "ipython3",
   "version": "3.8.8"
  },
  "toc": {
   "base_numbering": 1,
   "nav_menu": {},
   "number_sections": true,
   "sideBar": true,
   "skip_h1_title": false,
   "title_cell": "Table of Contents",
   "title_sidebar": "Contents",
   "toc_cell": false,
   "toc_position": {},
   "toc_section_display": true,
   "toc_window_display": false
  },
  "varInspector": {
   "cols": {
    "lenName": 16,
    "lenType": 16,
    "lenVar": 40
   },
   "kernels_config": {
    "python": {
     "delete_cmd_postfix": "",
     "delete_cmd_prefix": "del ",
     "library": "var_list.py",
     "varRefreshCmd": "print(var_dic_list())"
    },
    "r": {
     "delete_cmd_postfix": ") ",
     "delete_cmd_prefix": "rm(",
     "library": "var_list.r",
     "varRefreshCmd": "cat(var_dic_list()) "
    }
   },
   "types_to_exclude": [
    "module",
    "function",
    "builtin_function_or_method",
    "instance",
    "_Feature"
   ],
   "window_display": false
  }
 },
 "nbformat": 4,
 "nbformat_minor": 5
}
